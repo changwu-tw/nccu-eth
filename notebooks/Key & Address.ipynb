{
 "cells": [
  {
   "cell_type": "markdown",
   "metadata": {},
   "source": [
    "# Key & Address"
   ]
  },
  {
   "cell_type": "code",
   "execution_count": 1,
   "metadata": {},
   "outputs": [],
   "source": [
    "import sha3, sys\n",
    "\n",
    "from random import getrandbits\n",
    "from binascii import hexlify, unhexlify\n",
    "\n",
    "from coincurve import PublicKey"
   ]
  },
  {
   "cell_type": "markdown",
   "metadata": {},
   "source": [
    "# Ethereum address\n",
    "\n",
    "1. **Public key** = ECDSA_secp255k1(**Private key**)\n",
    "2. **Hash_result** = KECCAK_256(**Public key**)\n",
    "3. **Address** = '0x' + last20bytes(**Hash_result**)\n",
    "\n",
    "\n",
    "## Definition\n",
    "\n",
    "- **Private key**: generate a random 256-bit (32 bytes) number\n",
    "- **Public key**: calculate a public key from the private key\n"
   ]
  },
  {
   "cell_type": "code",
   "execution_count": 2,
   "metadata": {},
   "outputs": [],
   "source": [
    "def keccak(data):\n",
    "    k = sha3.keccak_256()\n",
    "    k.update(data)\n",
    "    return k.digest()\n",
    "\n",
    "\n",
    "def remove_0x(hexstr):\n",
    "    if hexstr.startswith(\"0x\") or hexstr.startswith(\"0X\"):\n",
    "        return hexstr[2:]\n",
    "    return hexstr    "
   ]
  },
  {
   "cell_type": "markdown",
   "metadata": {},
   "source": [
    "# Method 1"
   ]
  },
  {
   "cell_type": "code",
   "execution_count": 3,
   "metadata": {},
   "outputs": [
    {
     "data": {
      "text/plain": [
       "'0x24d8cc933e8b560eee094adb7c3d365bcf9675595a70a16ad366dff0e7bd74df'"
      ]
     },
     "execution_count": 3,
     "metadata": {},
     "output_type": "execute_result"
    }
   ],
   "source": [
    "##### step 1: generate a private key #####\n",
    "\n",
    "randbits = getrandbits(256)        # Get a random 256-bit number\n",
    "privkey = hex(randbits)            # Binary to hexadecimal\n",
    "privkey"
   ]
  },
  {
   "cell_type": "code",
   "execution_count": 4,
   "metadata": {},
   "outputs": [
    {
     "data": {
      "text/plain": [
       "'e6272097c8fee83daffc794f9481f1fa67c1984d823bb892a04c2e6768de114a18a6e146d7ec18457afe775d8fc2a65a181e04fb51f07d30ab23822443907717'"
      ]
     },
     "execution_count": 4,
     "metadata": {},
     "output_type": "execute_result"
    }
   ],
   "source": [
    "##### step 2: calculate a public key #####\n",
    "# https://learnmeabitcoin.com/technical/public-key\n",
    "\n",
    "bytes_privkey = unhexlify(remove_0x(privkey))\n",
    "public_key = PublicKey.from_valid_secret(bytes_privkey).format(compressed=False)[1:]\n",
    "hexlify(public_key).decode()"
   ]
  },
  {
   "cell_type": "code",
   "execution_count": 5,
   "metadata": {},
   "outputs": [
    {
     "data": {
      "text/plain": [
       "'0x2c3095db3348155e6c60095e86c35a13a13714e0'"
      ]
     },
     "execution_count": 5,
     "metadata": {},
     "output_type": "execute_result"
    }
   ],
   "source": [
    "##### step 3: generate an address\n",
    "address = '0x' + hexlify(keccak(public_key)[-20:]).decode()\n",
    "address"
   ]
  },
  {
   "cell_type": "markdown",
   "metadata": {},
   "source": [
    "## Warning\n",
    "\n",
    "- Is there anything wrong?\n",
    "- Cryptographically secure pseudo random number generator (PRNG)\n",
    "- The order of secp256k1 is **FFFFFFFFFFFFFFFFFFFFFFFFFFFFFFFEBAAEDCE6AF48A03BBFD25E8CD0364141**"
   ]
  },
  {
   "cell_type": "markdown",
   "metadata": {},
   "source": [
    "# Method 2 - secrets.token_hex()"
   ]
  },
  {
   "cell_type": "code",
   "execution_count": 6,
   "metadata": {},
   "outputs": [
    {
     "data": {
      "text/plain": [
       "'c0446a4034b41ccb5bfa7c4f3508c089c72abd93a3c1902d091ccf15178d82e3'"
      ]
     },
     "execution_count": 6,
     "metadata": {},
     "output_type": "execute_result"
    }
   ],
   "source": [
    "import secrets\n",
    "\n",
    "randbytes = secrets.token_hex(32)\n",
    "randbytes"
   ]
  },
  {
   "cell_type": "markdown",
   "metadata": {},
   "source": [
    "# Method 3 - os.urandom()"
   ]
  },
  {
   "cell_type": "code",
   "execution_count": 7,
   "metadata": {},
   "outputs": [
    {
     "data": {
      "text/plain": [
       "'b8b17f3be8db1b355c51f93800fbbe4ae5fae6cf1ed5c11700fcd164f83d68aa'"
      ]
     },
     "execution_count": 7,
     "metadata": {},
     "output_type": "execute_result"
    }
   ],
   "source": [
    "import os\n",
    "\n",
    "randbytes = hexlify(os.urandom(32)).decode()\n",
    "randbytes"
   ]
  },
  {
   "cell_type": "markdown",
   "metadata": {},
   "source": [
    "# References\n",
    "\n",
    "- https://realpython.com/lessons/cryptographically-secure-random-data-python/\n",
    "- https://cryptobook.nakov.com/\n",
    "- https://www.cem.me/\n",
    "- https://en.bitcoin.it/wiki/Secp256k1\n",
    "- https://www.desmos.com/calculator/ialhd71we3"
   ]
  },
  {
   "cell_type": "code",
   "execution_count": null,
   "metadata": {},
   "outputs": [],
   "source": []
  }
 ],
 "metadata": {
  "kernelspec": {
   "display_name": "Python 3",
   "language": "python",
   "name": "python3"
  },
  "language_info": {
   "codemirror_mode": {
    "name": "ipython",
    "version": 3
   },
   "file_extension": ".py",
   "mimetype": "text/x-python",
   "name": "python",
   "nbconvert_exporter": "python",
   "pygments_lexer": "ipython3",
   "version": "3.8.5"
  }
 },
 "nbformat": 4,
 "nbformat_minor": 4
}
