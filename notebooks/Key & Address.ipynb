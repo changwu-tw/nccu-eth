{
 "cells": [
  {
   "cell_type": "markdown",
   "metadata": {},
   "source": [
    "# Key & Address"
   ]
  },
  {
   "cell_type": "code",
   "execution_count": 5,
   "metadata": {},
   "outputs": [],
   "source": [
    "import sha3, sys\n",
    "\n",
    "from random import getrandbits\n",
    "from binascii import hexlify, unhexlify\n",
    "\n",
    "from coincurve import PublicKey"
   ]
  },
  {
   "cell_type": "markdown",
   "metadata": {},
   "source": [
    "# Ethereum address\n",
    "\n",
    "1. **Public key** = ECDSA_secp255k1(**Private key**)\n",
    "2. **Hash_result** = KECCAK_256(**Public key**)\n",
    "3. **Address** = '0x' + last20bytes(**Hash_result**)\n",
    "\n",
    "\n",
    "## Definition\n",
    "\n",
    "- **Private key**: generate a random 256-bit (32 bytes) number\n",
    "- **Public key**: calculate a public key from the private key\n"
   ]
  },
  {
   "cell_type": "code",
   "execution_count": 6,
   "metadata": {},
   "outputs": [],
   "source": [
    "def keccak(data):\n",
    "    k = sha3.keccak_256()\n",
    "    k.update(data)\n",
    "    return k.digest()\n",
    "\n",
    "\n",
    "def remove_0x(hexstr):\n",
    "    if hexstr.startswith(\"0x\") or hexstr.startswith(\"0X\"):\n",
    "        return hexstr[2:]\n",
    "    return hexstr    "
   ]
  },
  {
   "cell_type": "markdown",
   "metadata": {},
   "source": [
    "# Method 1"
   ]
  },
  {
   "cell_type": "code",
   "execution_count": 7,
   "metadata": {},
   "outputs": [
    {
     "data": {
      "text/plain": [
       "'0xadfb91d32744698d741154d1ac89a9ff5787c0a81d965f8b5ad3b3e7b6eaa4bd'"
      ]
     },
     "execution_count": 7,
     "metadata": {},
     "output_type": "execute_result"
    }
   ],
   "source": [
    "##### step 1: generate a private key #####\n",
    "\n",
    "randbits = getrandbits(256)        # Get a random 256-bit number\n",
    "privkey = hex(randbits)            # Binary to hexadecimal\n",
    "privkey"
   ]
  },
  {
   "cell_type": "code",
   "execution_count": 8,
   "metadata": {},
   "outputs": [
    {
     "data": {
      "text/plain": [
       "'560b1b06abf248c5c6502e4019f4567df297ab1c450c3044b6d4a16d36a43485122e61f31479332fb6f0c44a53a382b96cae1d86e5ffb874af793cb2a6406193'"
      ]
     },
     "execution_count": 8,
     "metadata": {},
     "output_type": "execute_result"
    }
   ],
   "source": [
    "##### step 2: calculate a public key #####\n",
    "# https://learnmeabitcoin.com/technical/public-key\n",
    "\n",
    "bytes_privkey = unhexlify(remove_0x(privkey))\n",
    "public_key = PublicKey.from_valid_secret(bytes_privkey).format(compressed=False)[1:]\n",
    "hexlify(public_key).decode()"
   ]
  },
  {
   "cell_type": "code",
   "execution_count": 9,
   "metadata": {},
   "outputs": [
    {
     "data": {
      "text/plain": [
       "'0xc1f22f6b15c4682769a6b6e859b004537fb005c7'"
      ]
     },
     "execution_count": 9,
     "metadata": {},
     "output_type": "execute_result"
    }
   ],
   "source": [
    "##### step 3: generate an address\n",
    "address = '0x' + hexlify(keccak(public_key)[-20:]).decode()\n",
    "address"
   ]
  },
  {
   "cell_type": "markdown",
   "metadata": {},
   "source": [
    "## Warning\n",
    "\n",
    "- Is there anything wrong?\n",
    "- What is Cryptographically secure pseudo random number generator (PRNG)\n",
    "- The order of secp256k1 is **FFFFFFFFFFFFFFFFFFFFFFFFFFFFFFFEBAAEDCE6AF48A03BBFD25E8CD0364141**"
   ]
  },
  {
   "cell_type": "markdown",
   "metadata": {},
   "source": [
    "# Method 2 - secrets.token_hex()"
   ]
  },
  {
   "cell_type": "code",
   "execution_count": 10,
   "metadata": {},
   "outputs": [
    {
     "name": "stdout",
     "output_type": "stream",
     "text": [
      "e59db9b9b65b4ebf1023c20a1f840ffa4ec68d06d1c7241aa034bbb435ca3237\n"
     ]
    }
   ],
   "source": [
    "import secrets\n",
    "\n",
    "##### step 1: generate a private key #####\n",
    "randbytes = secrets.token_hex(32)\n",
    "print(randbytes)\n",
    "\n",
    "##### step 2: calculate a public key #####\n",
    "# TODO\n",
    "\n",
    "\n",
    "##### step 3: generate an address\n",
    "# TODO\n"
   ]
  },
  {
   "cell_type": "markdown",
   "metadata": {},
   "source": [
    "# Method 3 - os.urandom()"
   ]
  },
  {
   "cell_type": "code",
   "execution_count": 11,
   "metadata": {},
   "outputs": [
    {
     "name": "stdout",
     "output_type": "stream",
     "text": [
      "0aefbef502c07ec565a5da10cbf74df5f6bfa022bdf7fe3c50046fb3744ceb06\n"
     ]
    }
   ],
   "source": [
    "import os\n",
    "\n",
    "##### step 1: generate a private key #####\n",
    "randbytes = hexlify(os.urandom(32)).decode()\n",
    "print(randbytes)\n",
    "\n",
    "##### step 2: calculate a public key #####\n",
    "# TODO\n",
    "\n",
    "\n",
    "##### step 3: generate an address\n",
    "# TODO\n"
   ]
  },
  {
   "cell_type": "markdown",
   "metadata": {},
   "source": [
    "# References\n",
    "\n",
    "- https://realpython.com/lessons/cryptographically-secure-random-data-python/\n",
    "- https://cryptobook.nakov.com/\n",
    "- https://www.cem.me/\n",
    "- https://en.bitcoin.it/wiki/Secp256k1\n",
    "- https://www.desmos.com/calculator/ialhd71we3"
   ]
  },
  {
   "cell_type": "markdown",
   "metadata": {},
   "source": [
    "# What's a vanity address?\n",
    "\n",
    "- https://vanity-eth.tk/"
   ]
  },
  {
   "cell_type": "markdown",
   "metadata": {},
   "source": [
    "- ex: 0x**beef**61e900936dcb1e7ab4f240167d2d318f5346\n",
    "- ex: 0x**5566**024ff661006db9b2190654650b8b6b009713"
   ]
  },
  {
   "cell_type": "code",
   "execution_count": 26,
   "metadata": {},
   "outputs": [],
   "source": [
    "def getAddress():\n",
    "    randbytes = hexlify(os.urandom(32))\n",
    "    public_key = PublicKey.from_valid_secret(randbytes).format(compressed=False)[1:]\n",
    "    return hexlify(keccak(public_key)[-20:]).decode()"
   ]
  },
  {
   "cell_type": "code",
   "execution_count": 33,
   "metadata": {},
   "outputs": [
    {
     "name": "stdout",
     "output_type": "stream",
     "text": [
      "abcd991ad3be015311e47a465bc40ade2936691f\n"
     ]
    }
   ],
   "source": [
    "addr = getAddress()\n",
    "while not addr.startswith('abcd'):\n",
    "    addr = getAddress()\n",
    "print(addr)"
   ]
  },
  {
   "cell_type": "code",
   "execution_count": null,
   "metadata": {},
   "outputs": [],
   "source": []
  }
 ],
 "metadata": {
  "kernelspec": {
   "display_name": "Python 3",
   "language": "python",
   "name": "python3"
  },
  "language_info": {
   "codemirror_mode": {
    "name": "ipython",
    "version": 3
   },
   "file_extension": ".py",
   "mimetype": "text/x-python",
   "name": "python",
   "nbconvert_exporter": "python",
   "pygments_lexer": "ipython3",
   "version": "3.8.5"
  }
 },
 "nbformat": 4,
 "nbformat_minor": 4
}
