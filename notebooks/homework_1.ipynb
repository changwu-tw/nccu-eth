{
 "cells": [
  {
   "cell_type": "markdown",
   "metadata": {},
   "source": [
    "# Homework 1 (Total: 100%)"
   ]
  },
  {
   "cell_type": "markdown",
   "metadata": {},
   "source": [
    "## Q1: Write a password generator (20%)\n",
    "\n",
    "### Password requirements:\n",
    "\n",
    "- Write a password generator, and the password **MUST** satisfy the following rules:\n",
    "    - at least 8 characters\n",
    "    - having lowercase letters\n",
    "    - having numbers\n"
   ]
  },
  {
   "cell_type": "code",
   "execution_count": 1,
   "metadata": {},
   "outputs": [],
   "source": [
    "##### Your code starts here #####\n",
    "\n",
    "\n",
    "\n",
    "\n",
    "\n"
   ]
  },
  {
   "cell_type": "markdown",
   "metadata": {},
   "source": [
    "## Q2: Write a random number to a file (20%)\n",
    "\n",
    "### Requirements:\n",
    "\n",
    "- Create a file named **number.txt**\n",
    "- Generate a random number\n",
    "- Write the random number to the file"
   ]
  },
  {
   "cell_type": "code",
   "execution_count": 2,
   "metadata": {},
   "outputs": [],
   "source": [
    "##### Your code starts here #####\n",
    "\n",
    "\n",
    "\n",
    "\n",
    "\n"
   ]
  },
  {
   "cell_type": "markdown",
   "metadata": {},
   "source": [
    "## Q3: Use secrets.token_hex() to generate an Ethereum account (20%)\n",
    "\n",
    "\n",
    "### Ethereum address\n",
    "\n",
    "1. **Public key** = ECDSA_secp255k1(**Private key**)\n",
    "2. **Hash_result** = KECCAK_256(**Public key**)\n",
    "3. **Address** = '0x' + last20bytes(**Hash_result**)\n",
    "\n",
    "\n",
    "### Definition\n",
    "\n",
    "- **Private key**: generate a random 256-bit (32 bytes) number\n",
    "- **Public key**: calculate a public key from the private key\n"
   ]
  },
  {
   "cell_type": "markdown",
   "metadata": {},
   "source": [
    "## import related modules and packages"
   ]
  },
  {
   "cell_type": "code",
   "execution_count": 3,
   "metadata": {},
   "outputs": [],
   "source": [
    "import sha3, sys\n",
    "\n",
    "from random import getrandbits\n",
    "from binascii import hexlify, unhexlify\n",
    "\n",
    "from coincurve import PublicKey"
   ]
  },
  {
   "cell_type": "code",
   "execution_count": 4,
   "metadata": {},
   "outputs": [
    {
     "name": "stdout",
     "output_type": "stream",
     "text": [
      "a125fef32e3a806c5ff8faa1986fb674ccbe3319e7002daa2795587207865463\n"
     ]
    }
   ],
   "source": [
    "##### Your code starts here #####\n",
    "\n",
    "\n",
    "import secrets\n",
    "\n",
    "# step 1: generate a private key\n",
    "randbytes = secrets.token_hex(32)\n",
    "print(randbytes)\n",
    "\n",
    "# step 2: calculate a public key\n",
    "# TODO\n",
    "\n",
    "\n",
    "# step 3: generate an address\n",
    "# TODO\n",
    "\n",
    "\n"
   ]
  },
  {
   "cell_type": "markdown",
   "metadata": {},
   "source": [
    "## Q4: Use os.urandom() to generate an Ethereum account (20%)"
   ]
  },
  {
   "cell_type": "code",
   "execution_count": 5,
   "metadata": {},
   "outputs": [
    {
     "name": "stdout",
     "output_type": "stream",
     "text": [
      "c3bf3e9fce237760e911a1c9f122f56fcd821dced31324ca9055566b6feeca98\n"
     ]
    }
   ],
   "source": [
    "##### Your code starts here #####\n",
    "\n",
    "import os\n",
    "\n",
    "# step 1: generate a private key\n",
    "randbytes = hexlify(os.urandom(32)).decode()\n",
    "print(randbytes)\n",
    "\n",
    "# step 2: calculate a public key\n",
    "# TODO\n",
    "\n",
    "\n",
    "# step 3: generate an address\n",
    "# TODO\n",
    "\n",
    "\n",
    "\n"
   ]
  },
  {
   "cell_type": "markdown",
   "metadata": {},
   "source": [
    "## Q5: Generate a vanity address (20%)\n",
    "\n",
    "- What's a vanity address? (https://vanity-eth.tk/)\n",
    "    - ex: 0x**beef**61e900936dcb1e7ab4f240167d2d318f5346\n",
    "    - ex: 0x**5566**024ff661006db9b2190654650b8b6b009713\n",
    "- Tips: \n",
    "    1. Write a function to generate an Ethereum account\n",
    "    2. Check if the prefix of the account equals the value you specify"
   ]
  },
  {
   "cell_type": "code",
   "execution_count": 6,
   "metadata": {},
   "outputs": [],
   "source": [
    "##### Your code starts here #####\n",
    "\n",
    "\n",
    "\n",
    "\n",
    "\n"
   ]
  },
  {
   "cell_type": "markdown",
   "metadata": {},
   "source": [
    "## Q6: What is cryptographically secure pseudo random number generator? (PRNG)\n",
    "\n",
    "### (bonus 10%)"
   ]
  },
  {
   "cell_type": "markdown",
   "metadata": {},
   "source": [
    "Ans: \n"
   ]
  },
  {
   "cell_type": "code",
   "execution_count": null,
   "metadata": {},
   "outputs": [],
   "source": []
  }
 ],
 "metadata": {
  "kernelspec": {
   "display_name": "Python 3",
   "language": "python",
   "name": "python3"
  },
  "language_info": {
   "codemirror_mode": {
    "name": "ipython",
    "version": 3
   },
   "file_extension": ".py",
   "mimetype": "text/x-python",
   "name": "python",
   "nbconvert_exporter": "python",
   "pygments_lexer": "ipython3",
   "version": "3.8.5"
  }
 },
 "nbformat": 4,
 "nbformat_minor": 4
}
